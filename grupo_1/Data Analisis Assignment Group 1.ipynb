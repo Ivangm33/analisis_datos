{
 "cells": [
  {
   "cell_type": "markdown",
   "metadata": {},
   "source": [
    "# Data Analisis Assignment - Group 1\n",
    "## Introduction\n",
    "The goal of this project is to analyze hourly electricity generation in Spain, broken down by autonomous community and generation technology. We aim to extract and explore key insights from the data, identify regional and technological trends, and optionally examine correlations between different data sources.\n",
    "## Task 1: Data Extraction and Saving\n",
    "The data extraction process is carried out through the Red Eléctrica de España (REE) API. An interactive user interface allows users to input the desired autonomous community, time period, and generation technology. Based on these inputs, the program retrieves the corresponding hourly electricity generation data and exports it to an Excel file named in the format: \"Generation_[AutonomousCommunity][StartDate][EndDate]\".\n",
    "\n",
    "__Inputs:__\n",
    "- Region Code\n",
    "- Technology\n",
    "- Start Date\n",
    "- End Date\n",
    "\n",
    "__Output:__\n",
    "- Excel file with columns: datetime, value by technology, percentage value by technology"
   ]
  },
  {
   "cell_type": "code",
   "execution_count": null,
   "metadata": {},
   "outputs": [
    {
     "name": "stdout",
     "output_type": "stream",
     "text": [
      "╔══════════════════════════════════════════╗\n",
      "║   Available Regions (geo_limit=ccaa)     ║\n",
      "╚══════════════════════════════════════════╝\n",
      " 1. Andalucía\n",
      " 2. Aragón\n",
      " 3. Cantabria\n",
      " 4. Asturias\n",
      " 5. Castilla y León\n",
      " 6. Castilla-La Mancha\n",
      " 7. Cataluña\n",
      " 8. Comunidad Valenciana\n",
      " 9. Extremadura\n",
      "10. Galicia\n",
      "11. Madrid\n",
      "12. Murcia\n",
      "13. Navarra\n",
      "14. País Vasco\n",
      "15. La Rioja\n",
      "16. Islas Baleares\n",
      "17. Islas Canarias\n",
      "18. Ceuta\n",
      "19. Melilla\n",
      "20. Península\n"
     ]
    },
    {
     "name": "stdin",
     "output_type": "stream",
     "text": [
      "\n",
      "Number of desired region:  10\n"
     ]
    }
   ],
   "source": [
    "import requests\n",
    "import json\n",
    "import pandas as pd\n",
    "from datetime import datetime as dt\n",
    "\n",
    "# Geo_id per region according to the REE API:\n",
    "# https://www.ree.es/es/datos/apidatos\n",
    "# ───────────────────────────────────────────────────────────────────────────\n",
    "# 1. Dictionary REGIONS  →  readable key  →  API id\n",
    "# ───────────────────────────────────────────────────────────────────────────\n",
    "REGIONES = {\n",
    "    \"Andalucía\": 4,\n",
    "    \"Aragón\": 5,\n",
    "    \"Cantabria\": 6,\n",
    "    \"Asturias\": 11,\n",
    "    \"Castilla y León\": 8,\n",
    "    \"Castilla-La Mancha\": 7,\n",
    "    \"Cataluña\": 9,\n",
    "    \"Comunidad Valenciana\": 15,\n",
    "    \"Extremadura\": 16,\n",
    "    \"Galicia\": 17,\n",
    "    \"Madrid\": 8752,\n",
    "    \"Murcia\": 21,\n",
    "    \"Navarra\": 14,\n",
    "    \"País Vasco\": 10,\n",
    "    \"La Rioja\": 20,\n",
    "    \"Islas Baleares\": 8743,\n",
    "    \"Islas Canarias\": 8742,\n",
    "    \"Ceuta\": 8744,\n",
    "    \"Melilla\": 8745,\n",
    "    \"Península\": 8741,\n",
    "}\n",
    "\n",
    "# ───────────────────────────────────────────────────────────────────────────\n",
    "# 2. Interactive selection (region + dates)\n",
    "# ───────────────────────────────────────────────────────────────────────────\n",
    "print(\"╔══════════════════════════════════════════╗\")\n",
    "print(\"║   Available Regions (geo_limit=ccaa)     ║\")\n",
    "print(\"╚══════════════════════════════════════════╝\")\n",
    "for n, reg in enumerate(REGIONES, 1):\n",
    "    print(f\"{n:>2}. {reg}\")\n",
    "\n",
    "# --- Select region ---\n",
    "while True:\n",
    "    try:\n",
    "        idx = int(input(\"\\nNumber of desired region: \"))\n",
    "        region_name = list(REGIONES)[idx - 1]\n",
    "        geo_id = REGIONES[region_name]\n",
    "        break\n",
    "    except (ValueError, IndexError):\n",
    "        print(\"⛔ Invalid choice, try again…\")\n",
    "\n",
    "# --- Date input ---\n",
    "def ask_date(prompt):\n",
    "    while True:\n",
    "        try:\n",
    "            txt = input(prompt)\n",
    "            return dt.strptime(txt.strip(), \"%Y-%m-%d %H:%M\")\n",
    "        except ValueError:\n",
    "            print(\"⛔ Invalid format. Example: 2019-01-01 00:00\")\n",
    "\n",
    "start = ask_date(\"\\nStart date (YYYY-MM-DD HH:MM): \")\n",
    "end   = ask_date(\"End date   (YYYY-MM-DD HH:MM): \")\n",
    "if end <= start:\n",
    "    raise ValueError(\"End date must be after the start date.\")\n",
    "\n",
    "print(f\"\\n▶ Region: {region_name}  (geo_id = {geo_id})\")\n",
    "print(f\"▶ Period: {start}  →  {end}\\n\")\n",
    "\n",
    "# ───────────────────────────────────────────────────────────────────────────\n",
    "# 3. API call function (daily granularity)\n",
    "# ───────────────────────────────────────────────────────────────────────────\n",
    "def get_gen(geo_id, start_date, end_date):\n",
    "    url = \"https://apidatos.ree.es/es/datos/generacion/estructura-generacion\"\n",
    "\n",
    "    headers = {\n",
    "        \"Accept\": \"application/json\",\n",
    "    }\n",
    "\n",
    "    params = {\n",
    "        \"start_date\": start_date,\n",
    "        \"end_date\": end_date,\n",
    "        \"time_trunc\": \"day\",\n",
    "        \"geo_limit\":  \"ccaa\",\n",
    "        \"geo_id\": geo_id\n",
    "    }\n",
    "\n",
    "    response = requests.get(url, headers=headers, params=params)\n",
    "    \n",
    "    if response.status_code != 200:\n",
    "        print(f\"⛔ Error {response.status_code}\")\n",
    "        print(response.text)\n",
    "        return pd.DataFrame()  # <- Return empty DataFrame on failure\n",
    "\n",
    "    data = response.json()\n",
    "\n",
    "    # Extract generation data\n",
    "    rows = []\n",
    "    for technology in data[\"included\"]:\n",
    "        name = technology[\"attributes\"][\"title\"]\n",
    "        for v in technology[\"attributes\"][\"values\"]:\n",
    "            rows.append({\n",
    "                \"datetime\": v[\"datetime\"],\n",
    "                \"value\": v[\"value\"],\n",
    "                \"percentage\": v[\"percentage\"],\n",
    "                \"technology\": name\n",
    "            })\n",
    "\n",
    "    return pd.DataFrame(rows)\n",
    "\n",
    "# Call API\n",
    "df = get_gen(geo_id, start, end)\n",
    "\n",
    "\n",
    "if df.empty:\n",
    "    print(\"❗ No data found. Please verify your input.\")\n",
    "else:\n",
    "    print(df.head())\n",
    "    # Format dates to string\n",
    "    start_str = start.strftime(\"%Y%m%d\")\n",
    "    end_str   = end.strftime(\"%Y%m%d\")\n",
    "\n",
    "    # Export to Excel\n",
    "    df.to_excel(archivo_excel, index=False)\n",
    "    print(f\"✅ Data saved to: {archivo_excel}\")\n",
    "\n",
    "    \n",
    "    # Remove duplicates for each (datetime, technology) pair\n",
    "    df_unique = df.drop_duplicates(subset=[\"datetime\", \"technology\"])\n",
    "\n",
    "    # Pivot: rows = datetime, columns = technology, values = generation\n",
    "    df_wide = df_unique.pivot(index=\"datetime\", columns=\"technology\", values=\"value\")\n",
    "\n",
    "    # Sort columns alphabetically\n",
    "    df_wide = df_wide.sort_index(axis=1)\n",
    "\n",
    "    # Sort rows by datetime\n",
    "    df_wide = df_wide.sort_index()\n",
    "\n",
    "    # ✅ Make 'datetime' a regular column instead of index\n",
    "    df_wide = df_wide.reset_index()\n",
    "\n",
    "    # Preview the resulting table\n",
    "    print(df_wide.head())\n",
    "\n",
    "    # Save to Excel\n",
    "    archivo_excel = f\"generacion_{region_name.replace(' ', '_').lower()}_{start_str}_{end_str}.xlsx\"\n",
    "    df_wide.to_excel(output_file, index=False)\n",
    "    print(f\"✅ Data saved to: {output_file}\")"
   ]
  },
  {
   "cell_type": "markdown",
   "metadata": {},
   "source": [
    "## Task 2: Data Preprocessing and Cleaning \n",
    "\n",
    "__Inputs:__\n",
    "- Excel File \"Generation_[AutonomousCommunity][StartDate][EndDate]\""
   ]
  },
  {
   "cell_type": "code",
   "execution_count": 1,
   "metadata": {},
   "outputs": [],
   "source": [
    "# Code to read the Excel file with Pandas and store it in a Pandas Dataframe\n",
    "# *Insert Code here*"
   ]
  },
  {
   "cell_type": "code",
   "execution_count": 2,
   "metadata": {},
   "outputs": [],
   "source": [
    "# Display the top 5 rows of the Dataframe \n",
    "# *insert code here data.head()*"
   ]
  },
  {
   "cell_type": "code",
   "execution_count": 3,
   "metadata": {},
   "outputs": [],
   "source": [
    "# Display information about the data including the index dtype and columns, non-null values and memory usage\n",
    "# *Insert code here: data.info()*"
   ]
  },
  {
   "cell_type": "code",
   "execution_count": 4,
   "metadata": {},
   "outputs": [],
   "source": [
    "# Display descriptive statistics include those that summarize the central tendency, dispersion and shape of a dataset’s distribution, excluding NaN values.\n",
    "# *insert code here data.discribe()*"
   ]
  },
  {
   "cell_type": "code",
   "execution_count": 5,
   "metadata": {},
   "outputs": [],
   "source": [
    "# Check data for missing values\n",
    "# *insert code here, Use .isnull().sum() (Python) to see which columns have missing data. Output can be a sentence like: No null values found; or if there are some how they were treated*"
   ]
  },
  {
   "cell_type": "code",
   "execution_count": 6,
   "metadata": {},
   "outputs": [],
   "source": [
    "# Check data for outliers values\n",
    "# *insert code here, Use boxplots, z-scores, or IQR to look which columns have outliers in the data. Output can be a sentence like: No outliers found; or if there are some how they were treated*"
   ]
  },
  {
   "cell_type": "code",
   "execution_count": 7,
   "metadata": {},
   "outputs": [],
   "source": [
    "# Check data for dublicate values\n",
    "# *insert code here, Use .duplicated() to identify and .drop_duplicates() to remove them. Output can be a sentence like: No dublicates found; or if there are some how they were treated*"
   ]
  },
  {
   "cell_type": "markdown",
   "metadata": {},
   "source": [
    "## Task 4: Comparison of the results of the different sources\n",
    "\n",
    "__Inputs:__\n",
    "- Data of Red Eléctrica de España (REE) API\n",
    "- Wind data from maritime observations in NOOA corresponding to the Spanish coasts (Group 4)"
   ]
  },
  {
   "cell_type": "code",
   "execution_count": null,
   "metadata": {},
   "outputs": [],
   "source": []
  }
 ],
 "metadata": {
  "kernelspec": {
   "display_name": "Python 3 (ipykernel)",
   "language": "python",
   "name": "python3"
  },
  "language_info": {
   "codemirror_mode": {
    "name": "ipython",
    "version": 3
   },
   "file_extension": ".py",
   "mimetype": "text/x-python",
   "name": "python",
   "nbconvert_exporter": "python",
   "pygments_lexer": "ipython3",
   "version": "3.11.0"
  }
 },
 "nbformat": 4,
 "nbformat_minor": 4
}
